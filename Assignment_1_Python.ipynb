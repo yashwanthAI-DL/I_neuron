{
 "cells": [
  {
   "cell_type": "raw",
   "id": "b3e499d3",
   "metadata": {},
   "source": [
    "1. In the below elements which of them are values or an expression? eg:- values can be\n",
    "integer or string and expressions will be mathematical operators."
   ]
  },
  {
   "cell_type": "raw",
   "id": "0883f827",
   "metadata": {},
   "source": [
    "\n",
    "* : String \n",
    "'hello' : Values\n",
    "-87.8 : Values\n",
    "- : String \n",
    "/ : String\n",
    "+ : String \n",
    "6 : Values"
   ]
  },
  {
   "cell_type": "raw",
   "id": "6c78bf17",
   "metadata": {},
   "source": [
    "2. What is the difference between string and variable?"
   ]
  },
  {
   "cell_type": "raw",
   "id": "96a89059",
   "metadata": {},
   "source": [
    "A Variable is a store of information, and a String is a type of information you would store in a Variable."
   ]
  },
  {
   "cell_type": "raw",
   "id": "852630e9",
   "metadata": {},
   "source": [
    "3. Describe three different data types."
   ]
  },
  {
   "cell_type": "raw",
   "id": "71a676d9",
   "metadata": {},
   "source": [
    "1. Charecter\n",
    "2. Boolean\n",
    "3. Integer"
   ]
  },
  {
   "cell_type": "raw",
   "id": "b9630be5",
   "metadata": {},
   "source": [
    "4. What is an expression made up of? What do all expressions do?"
   ]
  },
  {
   "cell_type": "raw",
   "id": "de76b267",
   "metadata": {},
   "source": [
    "An expression is a construct made up of variables, operators, and method invocations, which are constructed according to the syntax of the language, that evaluates to a single value."
   ]
  },
  {
   "cell_type": "raw",
   "id": "a52e22cf",
   "metadata": {},
   "source": [
    "5. This assignment statements, like spam = 10. What is the difference between an\n",
    "expression and a statement?"
   ]
  },
  {
   "cell_type": "raw",
   "id": "41eaad29",
   "metadata": {},
   "source": [
    "an “expression” is a combination of values and functions that are combined and interpreted by the compiler to create a new value, as opposed to a “statement” which is just a standalone unit of execution and doesn't return anything."
   ]
  },
  {
   "cell_type": "raw",
   "id": "d58ed7ba",
   "metadata": {},
   "source": [
    "6. After running the following code, what does the variable bacon contain?"
   ]
  },
  {
   "cell_type": "code",
   "execution_count": 5,
   "id": "f321ad44",
   "metadata": {},
   "outputs": [
    {
     "data": {
      "text/plain": [
       "23"
      ]
     },
     "execution_count": 5,
     "metadata": {},
     "output_type": "execute_result"
    }
   ],
   "source": [
    "bacon = 22\n",
    "bacon + 1"
   ]
  },
  {
   "cell_type": "raw",
   "id": "774f964b",
   "metadata": {},
   "source": [
    "bacon contains integer value (that is 23)"
   ]
  },
  {
   "cell_type": "raw",
   "id": "37a67e5c",
   "metadata": {},
   "source": [
    "7. What should the values of the following two terms be?\n"
   ]
  },
  {
   "cell_type": "raw",
   "id": "d1ae6a09",
   "metadata": {},
   "source": [
    "first one does concatination"
   ]
  },
  {
   "cell_type": "code",
   "execution_count": 9,
   "id": "3b00ae0c",
   "metadata": {},
   "outputs": [
    {
     "data": {
      "text/plain": [
       "'spamspamspam'"
      ]
     },
     "execution_count": 9,
     "metadata": {},
     "output_type": "execute_result"
    }
   ],
   "source": [
    "'spam' + 'spamspam'"
   ]
  },
  {
   "cell_type": "raw",
   "id": "b68cef60",
   "metadata": {},
   "source": [
    "Second one concatinates spam word 3 times"
   ]
  },
  {
   "cell_type": "code",
   "execution_count": 10,
   "id": "6c26e8b8",
   "metadata": {},
   "outputs": [
    {
     "data": {
      "text/plain": [
       "'spamspamspam'"
      ]
     },
     "execution_count": 10,
     "metadata": {},
     "output_type": "execute_result"
    }
   ],
   "source": [
    "'spam'*3"
   ]
  },
  {
   "cell_type": "raw",
   "id": "8005d30a",
   "metadata": {},
   "source": [
    "8. Why is eggs a valid variable name while 100 is invalid?"
   ]
  },
  {
   "cell_type": "raw",
   "id": "5a7ce97d",
   "metadata": {},
   "source": [
    "Eggs is valid variable name because its a string and it is not keyword where as 100 is a value (Integer) which cannot be given as a variable name"
   ]
  },
  {
   "cell_type": "raw",
   "id": "76dfce47",
   "metadata": {},
   "source": [
    "9. What three functions can be used to get the integer, floating-point number, or string\n",
    "version of a value?"
   ]
  },
  {
   "cell_type": "raw",
   "id": "2302e433",
   "metadata": {},
   "source": [
    "The int() , float() , and str( ) functions will evaluate to the integer, floating-point number, and string versions of the value passed to them."
   ]
  },
  {
   "cell_type": "raw",
   "id": "d963ecf3",
   "metadata": {},
   "source": [
    "10. Why does this expression cause an error? How can you fix it?"
   ]
  },
  {
   "cell_type": "code",
   "execution_count": 12,
   "id": "5c5498f4",
   "metadata": {},
   "outputs": [
    {
     "ename": "TypeError",
     "evalue": "can only concatenate str (not \"int\") to str",
     "output_type": "error",
     "traceback": [
      "\u001b[0;31m---------------------------------------------------------------------------\u001b[0m",
      "\u001b[0;31mTypeError\u001b[0m                                 Traceback (most recent call last)",
      "\u001b[0;32m/var/folders/t1/p5w5_p8x6n52jghh9gmfv8ww0000gn/T/ipykernel_37326/2733022945.py\u001b[0m in \u001b[0;36m<module>\u001b[0;34m\u001b[0m\n\u001b[0;32m----> 1\u001b[0;31m \u001b[0;34m'I have eaten'\u001b[0m \u001b[0;34m+\u001b[0m \u001b[0;36m99\u001b[0m \u001b[0;34m+\u001b[0m \u001b[0;34m'burritos'\u001b[0m\u001b[0;34m\u001b[0m\u001b[0;34m\u001b[0m\u001b[0m\n\u001b[0m",
      "\u001b[0;31mTypeError\u001b[0m: can only concatenate str (not \"int\") to str"
     ]
    }
   ],
   "source": [
    "'I have eaten' + 99 + 'burritos'"
   ]
  },
  {
   "cell_type": "raw",
   "id": "04d0dcaf",
   "metadata": {},
   "source": [
    "the above expression gives error because we cannot concatinate str and int but we can convert int to string and then concatenate them"
   ]
  },
  {
   "cell_type": "code",
   "execution_count": 13,
   "id": "c954eecc",
   "metadata": {},
   "outputs": [
    {
     "data": {
      "text/plain": [
       "'I have eaten99burritos'"
      ]
     },
     "execution_count": 13,
     "metadata": {},
     "output_type": "execute_result"
    }
   ],
   "source": [
    "'I have eaten' + str(99) + 'burritos'"
   ]
  },
  {
   "cell_type": "code",
   "execution_count": null,
   "id": "7c7d23ae",
   "metadata": {},
   "outputs": [],
   "source": []
  }
 ],
 "metadata": {
  "kernelspec": {
   "display_name": "Python 3 (ipykernel)",
   "language": "python",
   "name": "python3"
  },
  "language_info": {
   "codemirror_mode": {
    "name": "ipython",
    "version": 3
   },
   "file_extension": ".py",
   "mimetype": "text/x-python",
   "name": "python",
   "nbconvert_exporter": "python",
   "pygments_lexer": "ipython3",
   "version": "3.9.7"
  }
 },
 "nbformat": 4,
 "nbformat_minor": 5
}
